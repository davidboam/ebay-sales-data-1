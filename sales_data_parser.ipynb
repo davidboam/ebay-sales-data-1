{
 "cells": [
  {
   "cell_type": "code",
   "execution_count": 33,
   "metadata": {},
   "outputs": [],
   "source": [
    "\n",
    "import pandas as pd\n",
    "import numpy as np\n",
    "import os\n",
    "from datetime import date"
   ]
  },
  {
   "cell_type": "code",
   "execution_count": 34,
   "metadata": {},
   "outputs": [],
   "source": [
    "input_file_name = \"input_09_06_24.csv\" \n",
    "input_file_path = os.path.join(os.getcwd(), 'inputs', input_file_name)\n",
    "output_file_path = os.path.join(os.getcwd(), f'outputs/output_{date.today().strftime(\"%m_%d_%y\")}.csv')"
   ]
  },
  {
   "cell_type": "code",
   "execution_count": 43,
   "metadata": {},
   "outputs": [
    {
     "data": {
      "text/plain": [
       "'c:\\\\Users\\\\Lenovo ThinkPad\\\\Documents\\\\Golf\\\\Code'"
      ]
     },
     "execution_count": 43,
     "metadata": {},
     "output_type": "execute_result"
    }
   ],
   "source": [
    "os.getcwd()"
   ]
  },
  {
   "cell_type": "code",
   "execution_count": 35,
   "metadata": {},
   "outputs": [],
   "source": [
    "df = pd.read_csv(input_file_path,na_values=\"--\",skiprows=11)\n",
    "\n",
    "grouped_data = df.groupby('Order number',group_keys=False)\n",
    "\n",
    "clone_df = df.drop(df[df['Type'] != 'Order'].index)\n",
    "\n",
    "clean_df = clone_df.drop( [\"Type\", \"Net amount\", \"Payout currency\", \"Payout ID\", \"Payout status\",\n",
    "    \"Item ID\", \"Custom label\", \"Quantity\", \"Final value fee – fixed\", \"Final value fee – variable\", \"Regulatory operating fee\",\n",
    "    \"Very high 'item not as described' fee\", \"Below standard performance fee\",\n",
    "    \"International fee\", \"Gross transaction amount\", \"Transaction currency\",\n",
    "    \"Exchange rate\", \"Reference ID\",  \"Description\"],axis=1)\n"
   ]
  },
  {
   "cell_type": "code",
   "execution_count": 36,
   "metadata": {},
   "outputs": [],
   "source": [
    "\n",
    "def formatFees(group):\n",
    "    indices_dict = {\n",
    "        \"Order\": group.index[group['Type'] == 'Order'].tolist(),\n",
    "        \"Ad fee\" : group.index[group['Description'] == 'Ad Fee Standard '].tolist(),\n",
    "        \"Refund\" : group.index[group['Type'] == 'Refund'].tolist(),\n",
    "        \"Refund postage\" : group.index[group['Type'] == 'Postage label'].tolist(),\n",
    "        \"Hold\" : group.index[group['Type'] == 'Hold'].tolist()\n",
    "        }\n",
    "    \n",
    "    gross = df['Gross transaction amount'].iloc[indices_dict[\"Order\"]].dropna() \\\n",
    "        + df['Gross transaction amount'].iloc[indices_dict[\"Refund\"]].dropna().sum()\n",
    "\n",
    "\n",
    "    ebay_fees = df['Final value fee – fixed'].iloc[indices_dict[\"Order\"]].dropna().sum() \\\n",
    "        + df['Final value fee – variable'].iloc[indices_dict[\"Order\"]].dropna().sum() \\\n",
    "        + df['Final value fee – variable'].iloc[indices_dict[\"Refund\"]].dropna().sum() \\\n",
    "        + df['Regulatory operating fee'].iloc[indices_dict[\"Order\"]].dropna().sum()\n",
    "    \n",
    "    ad_fees = df['Gross transaction amount'].iloc[indices_dict[\"Ad fee\"]].dropna().sum()\n",
    "\n",
    "    postage_label = df['Gross transaction amount'].iloc[indices_dict[\"Refund postage\"]].dropna().sum()\n",
    "\n",
    "    df[\"Custom label\"] = df['Custom label'].str.replace(\" \",\"\")\n",
    "\n",
    "    number_balls = pd.DataFrame(np.zeros(len(grouped_data)))\n",
    "    number_balls = df['Custom label'].str.extract(r'-(\\d+)')[0].astype(float)\n",
    "\n",
    "\n",
    "\n",
    "\n",
    "\n",
    "#checks to see if item was refunded\n",
    "    if indices_dict.get(\"Refund\"):\n",
    "        if indices_dict.get(\"Hold\"): #check for return\n",
    "            ad_fees=0\n",
    "        else: #action taken if only partial refund\n",
    "            refunded_amount = df['Gross transaction amount'].iloc[indices_dict[\"Refund\"]].dropna()\n",
    "            ad_fees += ad_fees*float(refunded_amount) / df['Gross transaction amount'].iloc[indices_dict[\"Order\"]].dropna()\n",
    "\n",
    "    \n",
    "    net_sale = gross + ebay_fees + ad_fees + postage_label\n",
    "    new_df = pd.DataFrame({'Order number': group['Order number'],'Number of balls': number_balls.fillna(0), 'Gross sale': gross, 'Ebay fee': ebay_fees, 'Ad fee': ad_fees, 'Postage': 0,'Return postage': postage_label, 'Net sale': \"\" }).dropna()\n",
    "    return new_df\n",
    "\n",
    "\n"
   ]
  },
  {
   "cell_type": "code",
   "execution_count": 37,
   "metadata": {},
   "outputs": [],
   "source": [
    "formatted_df = grouped_data.apply(formatFees)\n",
    "sales_df = pd.merge(clean_df,formatted_df)\n",
    "\n",
    "\n",
    "sales_df['Transaction creation date'] = pd.to_datetime(sales_df[\"Transaction creation date\"],format= \"%d %b %Y\")\n",
    "sales_df.sort_values(by='Transaction creation date', inplace=True)\n",
    "sales_df = sales_df.drop_duplicates(subset=[\"Order number\", \"Buyer username\"])\n"
   ]
  },
  {
   "cell_type": "code",
   "execution_count": 38,
   "metadata": {},
   "outputs": [
    {
     "name": "stdout",
     "output_type": "stream",
     "text": [
      "c:/outputs/output_07_22_24.csv\n",
      "An error occurred: Cannot save file into a non-existent directory: 'c:\\outputs'\n"
     ]
    }
   ],
   "source": [
    "\n",
    "output_file = output_file_path \n",
    "print(output_file)\n",
    "\n",
    "try:\n",
    "    sales_df.to_csv(output_file, index=False)\n",
    "    x = pd.read_csv(output_file)\n",
    "    print(x)\n",
    "    print(\"output succesfful\")\n",
    "    \n",
    "except FileNotFoundError as e:\n",
    "    print(f\"File not found error: {e}\")\n",
    "except PermissionError as e:\n",
    "    print(f\"Permission error: {e}. The file might be open in another program. Please close it and try again.\")\n",
    "except Exception as e:\n",
    "    print(f\"An error occurred: {e}\")\n",
    "\n",
    "\n",
    "# os.startfile(f'\"C:/Users/Lenovo ThinkPad/Documents/Golf/Code/{output_file}\"')\n",
    "# os.startfile(f'\"C:/Users/Lenovo ThinkPad/Documents/Golf/Code/{output_file}\"')\n",
    "# input()\n",
    "\n"
   ]
  },
  {
   "cell_type": "code",
   "execution_count": 40,
   "metadata": {},
   "outputs": [
    {
     "data": {
      "text/plain": [
       "'c:/outputs/output_07_22_24.csv'"
      ]
     },
     "execution_count": 40,
     "metadata": {},
     "output_type": "execute_result"
    }
   ],
   "source": [
    "output_file_path"
   ]
  }
 ],
 "metadata": {
  "kernelspec": {
   "display_name": "Python 3",
   "language": "python",
   "name": "python3"
  },
  "language_info": {
   "codemirror_mode": {
    "name": "ipython",
    "version": 3
   },
   "file_extension": ".py",
   "mimetype": "text/x-python",
   "name": "python",
   "nbconvert_exporter": "python",
   "pygments_lexer": "ipython3",
   "version": "3.10.6"
  }
 },
 "nbformat": 4,
 "nbformat_minor": 2
}
